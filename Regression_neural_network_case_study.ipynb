{
  "nbformat": 4,
  "nbformat_minor": 0,
  "metadata": {
    "colab": {
      "name": "Regression neural network case study.ipynb",
      "provenance": [],
      "collapsed_sections": [],
      "authorship_tag": "ABX9TyNTOGrgg1Yz5hC6iXVNWrnm",
      "include_colab_link": true
    },
    "kernelspec": {
      "name": "python3",
      "display_name": "Python 3"
    },
    "language_info": {
      "name": "python"
    }
  },
  "cells": [
    {
      "cell_type": "markdown",
      "metadata": {
        "id": "view-in-github",
        "colab_type": "text"
      },
      "source": [
        "<a href=\"https://colab.research.google.com/github/mfsen/tensorflowExcercises/blob/main/Regression_neural_network_case_study.ipynb\" target=\"_parent\"><img src=\"https://colab.research.google.com/assets/colab-badge.svg\" alt=\"Open In Colab\"/></a>"
      ]
    },
    {
      "cell_type": "markdown",
      "source": [
        "**Regression neural network case study**                                         \n",
        "Bu projede sklearn kütüphanesi bünyesinde bulunan diabetes kütüphanesini kullanarak yapay sinir ağları ile regresyon analizi yapacağız ve aşşağıdaki adımları izleyeceğiz.\n",
        "  \n",
        "1.   Verinin indirilip yüklenmesi\n",
        "2.   Yüklenen verilerin incelenmesi ve önişleme tabi tutulması\n",
        "3.   Tensorflow ile regression modelinin oluşturulması\n",
        "4.   Oluşturulan modelin eğitilmesi ve eğitimdeki hata değerlerinin çizdirilmesi\n",
        "5.   Eğitilen modelin test verisi üzerinde denenmesi ve hata değerlerinin çıkarılması\n",
        "\n"
      ],
      "metadata": {
        "id": "3Fgz8MLlCvuU"
      }
    },
    {
      "cell_type": "code",
      "execution_count": null,
      "metadata": {
        "id": "UR3-qUjpCuSQ"
      },
      "outputs": [],
      "source": [
        "# Gerekli kütüphanelerin yüklenmesi"
      ]
    }
  ]
}